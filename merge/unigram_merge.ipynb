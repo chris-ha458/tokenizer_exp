{
 "cells": [
  {
   "cell_type": "code",
   "execution_count": 1,
   "metadata": {},
   "outputs": [],
   "source": [
    "import tokenizers\n",
    "from tokenizers import Tokenizer\n",
    "import os, time, re,json, copy\n",
    "from collections import OrderedDict\n",
    "from statistics import fmean"
   ]
  },
  {
   "cell_type": "code",
   "execution_count": 4,
   "metadata": {},
   "outputs": [],
   "source": [
    "base_tokenizer_fn = \"/home/karyo/corpus/models/04_27_camel/unigram/kr_64k/tokenizer.json\"\n",
    "plus_tokenizer_fn = \"/home/karyo/corpus/models/04_27_camel/unigram/ec_64k/tokenizer.json\"\n",
    "final_json_fn = \"/home/karyo/corpus/models/union/tokenizer.json\""
   ]
  },
  {
   "cell_type": "code",
   "execution_count": 5,
   "metadata": {},
   "outputs": [],
   "source": [
    "base_json = json.load(open(base_tokenizer_fn))\n",
    "plus_json = json.load(open(plus_tokenizer_fn))"
   ]
  },
  {
   "cell_type": "code",
   "execution_count": 53,
   "metadata": {},
   "outputs": [],
   "source": [
    "target = 102400\n",
    "whitespace_reservation = 24 - 1 # skip single space\n",
    "def get_counts(tokenizer_json : dict) -> tuple:\n",
    "    added_token_count = len(tokenizer_json['added_tokens'])\n",
    "    vocab_size = len(tokenizer_json['model']['vocab'])\n",
    "    return (added_token_count, vocab_size)"
   ]
  },
  {
   "cell_type": "code",
   "execution_count": 54,
   "metadata": {},
   "outputs": [],
   "source": [
    "# acquire token counts from tokenizers\n",
    "base_added_token_count, base_vocab_size = get_counts(base_json)\n",
    "plus_added_token_count, plus_vocab_size = get_counts(base_json)\n",
    "\n",
    "# how much merges to get for final target\n",
    "target_tokens = target - whitespace_reservation"
   ]
  },
  {
   "cell_type": "code",
   "execution_count": 55,
   "metadata": {},
   "outputs": [
    {
     "data": {
      "text/plain": [
       "131"
      ]
     },
     "execution_count": 55,
     "metadata": {},
     "output_type": "execute_result"
    }
   ],
   "source": [
    "base_added_token_count"
   ]
  },
  {
   "cell_type": "code",
   "execution_count": 56,
   "metadata": {},
   "outputs": [],
   "source": [
    "# we will operate on the values so deep copy\n",
    "base_vocab = copy.deepcopy(base_json['model']['vocab'])\n",
    "plus_vocab = copy.deepcopy(plus_json['model']['vocab'])"
   ]
  },
  {
   "cell_type": "code",
   "execution_count": 57,
   "metadata": {},
   "outputs": [],
   "source": [
    "base_vocab_dict = {vocab_tuple[0] : vocab_tuple[1] for vocab_tuple in base_vocab}\n",
    "plus_vocab_dict = {vocab_tuple[0] : vocab_tuple[1] for vocab_tuple in plus_vocab}"
   ]
  },
  {
   "cell_type": "code",
   "execution_count": 58,
   "metadata": {},
   "outputs": [
    {
     "name": "stdout",
     "output_type": "stream",
     "text": [
      "65513 65536\n"
     ]
    }
   ],
   "source": [
    "print(len(base_vocab_dict), len(plus_vocab_dict))"
   ]
  },
  {
   "cell_type": "code",
   "execution_count": 59,
   "metadata": {},
   "outputs": [],
   "source": [
    "token_count = 0\n",
    "union_vocab_dict = base_vocab_dict.copy()\n",
    "union_vocab_keys = union_vocab_dict.keys()\n",
    "for token in plus_vocab_dict.keys():\n",
    "    if token not in union_vocab_keys:\n",
    "        union_vocab_dict[token] = plus_vocab_dict[token]\n",
    "    if token in union_vocab_keys:\n",
    "        log_probs = [union_vocab_dict[token],plus_vocab_dict[token]]\n",
    "        union_vocab_dict[token] = fmean(log_probs)"
   ]
  },
  {
   "cell_type": "code",
   "execution_count": 60,
   "metadata": {},
   "outputs": [],
   "source": [
    "sorted_union_list = sorted(union_vocab_dict.items(),key=lambda x:x[1],reverse=True)[:target_tokens]\n",
    "sorted_union_dict = dict(sorted_union_list)"
   ]
  },
  {
   "cell_type": "code",
   "execution_count": 66,
   "metadata": {},
   "outputs": [],
   "source": [
    "# copy original base json to add to\n",
    "final_json = copy.deepcopy(base_json)\n",
    "#inverse_final_json = {index : vocab for vocab,index in final_json['model']['vocab'].items()}\n",
    "final_json['model']['vocab'] = sorted_union_list\n",
    "final_json['model']['unk_id'] = 5"
   ]
  },
  {
   "cell_type": "code",
   "execution_count": 67,
   "metadata": {},
   "outputs": [
    {
     "data": {
      "text/plain": [
       "102377"
      ]
     },
     "execution_count": 67,
     "metadata": {},
     "output_type": "execute_result"
    }
   ],
   "source": [
    "len(final_json['model']['vocab'])"
   ]
  },
  {
   "cell_type": "code",
   "execution_count": 68,
   "metadata": {},
   "outputs": [],
   "source": [
    "with open(final_json_fn, \"w\") as output_f:\n",
    "    json.dump(final_json, output_f, indent=2, sort_keys=False, ensure_ascii=False)"
   ]
  },
  {
   "cell_type": "code",
   "execution_count": 69,
   "metadata": {},
   "outputs": [],
   "source": [
    "final_tokenizer = Tokenizer.from_file(final_json_fn)"
   ]
  },
  {
   "cell_type": "code",
   "execution_count": 70,
   "metadata": {},
   "outputs": [
    {
     "name": "stdout",
     "output_type": "stream",
     "text": [
      "102400 102400 True\n"
     ]
    }
   ],
   "source": [
    "print(final_tokens := final_tokenizer.get_vocab_size(with_added_tokens=True), target, final_tokens == target)"
   ]
  },
  {
   "cell_type": "code",
   "execution_count": 71,
   "metadata": {},
   "outputs": [],
   "source": [
    "final_tokenizer.save(final_json_fn)"
   ]
  }
 ],
 "metadata": {
  "kernelspec": {
   "display_name": "env",
   "language": "python",
   "name": "python3"
  },
  "language_info": {
   "codemirror_mode": {
    "name": "ipython",
    "version": 3
   },
   "file_extension": ".py",
   "mimetype": "text/x-python",
   "name": "python",
   "nbconvert_exporter": "python",
   "pygments_lexer": "ipython3",
   "version": "3.10.6"
  },
  "orig_nbformat": 4
 },
 "nbformat": 4,
 "nbformat_minor": 2
}
